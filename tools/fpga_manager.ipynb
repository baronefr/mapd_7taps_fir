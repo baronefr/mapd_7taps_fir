{
 "cells": [
  {
   "cell_type": "markdown",
   "id": "d8fad6ca-0738-4647-99e3-e30aa50e66a3",
   "metadata": {},
   "source": [
    "# **7 taps FIR filter for symmetric coefficients in VHDL**\n",
    "## fpga management\n",
    "\n",
    "project for MAPD, A.Y. 2021/22"
   ]
  },
  {
   "cell_type": "code",
   "execution_count": 1,
   "id": "95fc8b25-5806-4a4f-87c5-e0e635a680da",
   "metadata": {},
   "outputs": [],
   "source": [
    "# general imports\n",
    "import numpy as np\n",
    "import matplotlib.pyplot as plt\n",
    "from scipy import signal"
   ]
  },
  {
   "cell_type": "code",
   "execution_count": 2,
   "id": "d89c6ce0-3fc3-43cb-835e-7e70047d81c6",
   "metadata": {},
   "outputs": [],
   "source": [
    "## define the I/O ##\n",
    "usb_int = '/dev/ttyUSB1'\n",
    "\n",
    "# data directory\n",
    "dir_files = '../demo/'\n",
    "# waveform to test:\n",
    "template_waveform_file = dir_files + 'waveform_sample_sine.txt'\n",
    "# fpga outputs\n",
    "fpga_waveform1 = dir_files + 'fpga_sampling_tmp.txt'"
   ]
  },
  {
   "cell_type": "markdown",
   "id": "04547a83-b2f7-40e4-9549-47d48b05289c",
   "metadata": {},
   "source": [
    "### **programming the FPGA**\n",
    "\n",
    "Call Vivado from command line & load the predefined bitstream. We suggest to put the FIR in *programming mode* (SW0 closed, red led steady)."
   ]
  },
  {
   "cell_type": "code",
   "execution_count": 5,
   "id": "74817134-68d6-48cd-bea9-f9779cb99de3",
   "metadata": {},
   "outputs": [
    {
     "name": "stdout",
     "output_type": "stream",
     "text": [
      "\n",
      "****** Vivado v2018.3 (64-bit)\n",
      "  **** SW Build 2405991 on Thu Dec  6 23:36:41 MST 2018\n",
      "  **** IP Build 2404404 on Fri Dec  7 01:43:56 MST 2018\n",
      "    ** Copyright 1986-2018 Xilinx, Inc. All Rights Reserved.\n",
      "\n",
      "^C\n"
     ]
    }
   ],
   "source": [
    "!./program_fpga.sh"
   ]
  },
  {
   "cell_type": "markdown",
   "id": "c4b9c172-2ad2-4f86-bd26-79c62bda12e2",
   "metadata": {
    "tags": []
   },
   "source": [
    "## **set the fir coefficients**\n",
    "\n",
    "The lowpass coefficients are computed using a scipy function (firwin). Then the coefficients are sent to the FPGA."
   ]
  },
  {
   "cell_type": "markdown",
   "id": "fd6a22ee-82a2-40bc-8667-f71219e755f6",
   "metadata": {},
   "source": [
    "**NOTE**: run te following cell while the FPGA is in *programming mode* (SW0 closed, red led active). If the operation is successful, the led should turn purple."
   ]
  },
  {
   "cell_type": "code",
   "execution_count": 6,
   "id": "943b236e-3ab5-4967-8755-d47b1c5c8ff7",
   "metadata": {},
   "outputs": [
    {
     "name": "stdout",
     "output_type": "stream",
     "text": [
      " >> using interface /dev/ttyUSB1\n",
      " >> coefficients:  [ 0  8 32 48]\n",
      " << serial >>\n",
      ".\n",
      ".\n",
      ".\n",
      ".\n",
      ">> end of buffer\n"
     ]
    }
   ],
   "source": [
    "!./write_coefficients.py --usb $usb_int -c 0 8 32 48"
   ]
  },
  {
   "cell_type": "markdown",
   "id": "8b409924-ad63-45b6-8bbb-fa129148184f",
   "metadata": {},
   "source": [
    "![fpga_programming](../img/fpga_mode_programming.png)"
   ]
  },
  {
   "cell_type": "markdown",
   "id": "9deda7d3-4fdb-42fd-8dcc-f5eb0820f08f",
   "metadata": {},
   "source": [
    "## **feed data**\n",
    "\n",
    "**NOTE**: Now switch the FPGA to *filter mode* (SW0 opened, green led active)."
   ]
  },
  {
   "cell_type": "code",
   "execution_count": 3,
   "id": "f0353548-75bc-49c4-a935-0b75f7baade7",
   "metadata": {},
   "outputs": [
    {
     "name": "stdout",
     "output_type": "stream",
     "text": [
      " >> using interface /dev/ttyUSB1\n",
      " === ../demo/waveform_sample_sine.txt  -> FPGA ->  ../demo/fpga_sampling_tmp.txt ===\n",
      " > read values from file ../demo/waveform_sample_sine.txt\n",
      " > 207 values acquired\n",
      " << serial >>\n",
      ".\n",
      ".\n",
      ".\n",
      ".\n",
      ".\n",
      ".\n",
      ".\n",
      ".\n",
      ".\n",
      ".\n",
      ".\n",
      ">> end of buffer\n"
     ]
    }
   ],
   "source": [
    "!./send_data_fpga.py -i $template_waveform_file -o $fpga_waveform1"
   ]
  },
  {
   "cell_type": "markdown",
   "id": "1a47646d-ee61-44c3-971b-aede9132a658",
   "metadata": {},
   "source": [
    "![fpga_programming](../img/fpga_mode_filter.png)"
   ]
  },
  {
   "cell_type": "markdown",
   "id": "6f4fd562-38fe-440d-9436-840d8803e167",
   "metadata": {},
   "source": [
    "#### waveform visualization"
   ]
  },
  {
   "cell_type": "code",
   "execution_count": 4,
   "id": "a747435e-ae12-433b-94f5-d62d24240078",
   "metadata": {},
   "outputs": [
    {
     "data": {
      "image/png": "[encoded data removed]",
      "text/plain": [
       "<Figure size 432x288 with 1 Axes>"
      ]
     },
     "metadata": {
      "needs_background": "light"
     },
     "output_type": "display_data"
    }
   ],
   "source": [
    "fpga_wave = np.loadtxt(fpga_waveform1)\n",
    "fpga_wave = fpga_wave \n",
    "\n",
    "plt.plot( np.arange(len(fpga_wave)), fpga_wave, color='r')\n",
    "plt.xlabel('samples'); plt.ylabel('strain'); plt.title('waveform from FPGA');\n",
    "plt.show()"
   ]
  },
  {
   "cell_type": "markdown",
   "id": "4c8be74e-7e3f-4297-882c-af189bc612cc",
   "metadata": {},
   "source": [
    "End of file"
   ]
  }
 ],
 "metadata": {
  "kernelspec": {
   "display_name": "Python 3 (ipykernel)",
   "language": "python",
   "name": "python3"
  },
  "language_info": {
   "codemirror_mode": {
    "name": "ipython",
    "version": 3
   },
   "file_extension": ".py",
   "mimetype": "text/x-python",
   "name": "python",
   "nbconvert_exporter": "python",
   "pygments_lexer": "ipython3",
   "version": "3.9.7"
  }
 },
 "nbformat": 4,
 "nbformat_minor": 5
}
